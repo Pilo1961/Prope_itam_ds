{
 "cells": [
  {
   "cell_type": "markdown",
   "metadata": {},
   "source": [
    "# Elementos de estadística descriptiva\n",
    "## Práctica 5\n"
   ]
  },
  {
   "cell_type": "markdown",
   "metadata": {},
   "source": [
    "#### Ejercicio 1\n",
    "Considérese el experimento de lanzar $20$ veces una moneda y obtener la secuencia: $H,T,H,H,T,H,H,T,H,H,T,T,H,T,T,T,H,H,H,T$.\n",
    "1. Tabular los resultados del experimento anterior encontrando las proporciones de $H$ y $T$ en los $20$ lanzamientos.\n",
    "2. Graficar las proporciones con barplot y plot."
   ]
  },
  {
   "cell_type": "code",
   "execution_count": 8,
   "metadata": {},
   "outputs": [
    {
     "data": {
      "text/plain": [
       "res\n",
       "   H    T \n",
       "0.55 0.45 "
      ]
     },
     "metadata": {},
     "output_type": "display_data"
    }
   ],
   "source": [
    "res<-c(\"H\",\"T\",\"H\",\"H\",\"T\",\"H\",\"H\",\"T\",\"H\",\"H\",\"T\",\"T\",\"H\",\"T\",\"T\",\"T\",\"H\",\"H\",\"H\",\"T\")\n",
    "proporciones<-prop.table(table(res))\n",
    "proporciones"
   ]
  },
  {
   "cell_type": "code",
   "execution_count": 15,
   "metadata": {},
   "outputs": [],
   "source": [
    "options(repr.plot.width=5, repr.plot.height=3) #esta línea sólo se ejecuta para jupyterlab con R"
   ]
  },
  {
   "cell_type": "code",
   "execution_count": 32,
   "metadata": {},
   "outputs": [
    {
     "data": {
      "image/png": "[encoded data removed]",
      "text/plain": [
       "plot without title"
      ]
     },
     "metadata": {},
     "output_type": "display_data"
    }
   ],
   "source": [
    "par(mfcol=c(1,2)) #subplots\n",
    "par(cex=.7)\n",
    "plot(proporciones, lwd=4, ylim=c(0,.8))\n",
    "barplot(proporciones, width=.6, ylim=c(0,.8))"
   ]
  },
  {
   "cell_type": "markdown",
   "metadata": {},
   "source": [
    "#### Ejercicio 2\n",
    "\n",
    "Para el dataset analizado anteriormente y que se creó: log_mammals realizar:\n",
    "1. Para datos cuantitativos es común realizar diagramas de tallos y hojas. Investigar la interpretación de estos diagramas y usar la función stem del paquete base de R para realizar tales diagramas a las variables log_body y log_brain e interpretarlas.\n"
   ]
  },
  {
   "cell_type": "code",
   "execution_count": 115,
   "metadata": {},
   "outputs": [
    {
     "data": {
      "text/html": [
       "<table>\n",
       "<caption>A data.frame: 6 x 3</caption>\n",
       "<thead>\n",
       "\t<tr><th></th><th scope=col>body</th><th scope=col>brain</th><th scope=col>r</th></tr>\n",
       "\t<tr><th></th><th scope=col>&lt;dbl&gt;</th><th scope=col>&lt;dbl&gt;</th><th scope=col>&lt;dbl&gt;</th></tr>\n",
       "</thead>\n",
       "<tbody>\n",
       "\t<tr><th scope=row>Arctic fox</th><td> 1.2193539</td><td>3.795489</td><td> 2.57613528</td></tr>\n",
       "\t<tr><th scope=row>Owl monkey</th><td>-0.7339692</td><td>2.740840</td><td> 3.47480920</td></tr>\n",
       "\t<tr><th scope=row>Mountain beaver</th><td> 0.3001046</td><td>2.091864</td><td> 1.79175947</td></tr>\n",
       "\t<tr><th scope=row>Cow</th><td> 6.1420374</td><td>6.047372</td><td>-0.09466523</td></tr>\n",
       "\t<tr><th scope=row>Grey wolf</th><td> 3.5926438</td><td>4.783316</td><td> 1.19067253</td></tr>\n",
       "\t<tr><th scope=row>Goat</th><td> 3.3199873</td><td>4.744932</td><td> 1.42494480</td></tr>\n",
       "</tbody>\n",
       "</table>\n"
      ],
      "text/latex": [
       "A data.frame: 6 x 3\n",
       "\\begin{tabular}{r|lll}\n",
       "  & body & brain & r\\\\\n",
       "  & <dbl> & <dbl> & <dbl>\\\\\n",
       "\\hline\n",
       "\tArctic fox &  1.2193539 & 3.795489 &  2.57613528\\\\\n",
       "\tOwl monkey & -0.7339692 & 2.740840 &  3.47480920\\\\\n",
       "\tMountain beaver &  0.3001046 & 2.091864 &  1.79175947\\\\\n",
       "\tCow &  6.1420374 & 6.047372 & -0.09466523\\\\\n",
       "\tGrey wolf &  3.5926438 & 4.783316 &  1.19067253\\\\\n",
       "\tGoat &  3.3199873 & 4.744932 &  1.42494480\\\\\n",
       "\\end{tabular}\n"
      ],
      "text/markdown": [
       "\n",
       "A data.frame: 6 x 3\n",
       "\n",
       "| <!--/--> | body &lt;dbl&gt; | brain &lt;dbl&gt; | r &lt;dbl&gt; |\n",
       "|---|---|---|---|\n",
       "| Arctic fox |  1.2193539 | 3.795489 |  2.57613528 |\n",
       "| Owl monkey | -0.7339692 | 2.740840 |  3.47480920 |\n",
       "| Mountain beaver |  0.3001046 | 2.091864 |  1.79175947 |\n",
       "| Cow |  6.1420374 | 6.047372 | -0.09466523 |\n",
       "| Grey wolf |  3.5926438 | 4.783316 |  1.19067253 |\n",
       "| Goat |  3.3199873 | 4.744932 |  1.42494480 |\n",
       "\n"
      ],
      "text/plain": [
       "                body       brain    r          \n",
       "Arctic fox       1.2193539 3.795489  2.57613528\n",
       "Owl monkey      -0.7339692 2.740840  3.47480920\n",
       "Mountain beaver  0.3001046 2.091864  1.79175947\n",
       "Cow              6.1420374 6.047372 -0.09466523\n",
       "Grey wolf        3.5926438 4.783316  1.19067253\n",
       "Goat             3.3199873 4.744932  1.42494480"
      ]
     },
     "metadata": {},
     "output_type": "display_data"
    }
   ],
   "source": [
    "library(MASS)\n",
    "log_mammals<-log(mammals)\n",
    "head(log_mammals)"
   ]
  },
  {
   "cell_type": "code",
   "execution_count": 51,
   "metadata": {},
   "outputs": [
    {
     "name": "stdout",
     "output_type": "stream",
     "text": [
      "[1] \"Leaf plot del cuerpo de los mamiferos\"\n",
      "\n",
      "  The decimal point is at the |\n",
      "\n",
      "  -4 | 36\n",
      "  -2 | 880863311\n",
      "  -0 | 639763211\n",
      "   0 | 00333557912233344459\n",
      "   2 | 347366\n",
      "   4 | 00114612335\n",
      "   6 | 1338\n",
      "   8 | 8\n",
      "\n"
     ]
    }
   ],
   "source": [
    "print(\"Leaf plot del cuerpo de los mamiferos\")\n",
    "stem(log_mammals$body,scale=1)"
   ]
  },
  {
   "cell_type": "markdown",
   "metadata": {},
   "source": [
    "En el diaframa de hoja y tallo del cuerpo de los mamíferos podemos notar los siguiente:\n",
    "* Cada tallo contiene 2 valores (por ejemplo 0 y 1 están listados en 0)\n",
    "* Los valores van de -5.9 hasta 9.9\n",
    "* La mediana está entre 0 y 1\n",
    "* No se perciben valores atípicos\n",
    "* Parece tener dos modas"
   ]
  },
  {
   "cell_type": "code",
   "execution_count": 52,
   "metadata": {},
   "outputs": [
    {
     "name": "stdout",
     "output_type": "stream",
     "text": [
      "[1] \"Leaf plot del cerebro de los mamiferos\"\n",
      "\n",
      "  The decimal point is at the |\n",
      "\n",
      "  -2 | 0\n",
      "  -0 | 4219\n",
      "   0 | 00269901344677899\n",
      "   2 | 1445555789022789\n",
      "   4 | 01467781122228\n",
      "   6 | 00012552\n",
      "   8 | 47\n",
      "\n"
     ]
    }
   ],
   "source": [
    "print(\"Leaf plot del cerebro de los mamiferos\")\n",
    "stem(log_mammals$brain)"
   ]
  },
  {
   "cell_type": "markdown",
   "metadata": {},
   "source": [
    "En el diaframa de hoja y tallo del cuerpo de los mamíferos podemos notar los siguiente:\n",
    "* Cada tallo contiene 2 valores (por ejemplo 0 y 1 están listados en 0)\n",
    "* Los valores van de -3.9 hasta 9.9\n",
    "* La mediana está entre 2 y 3.9\n",
    "* No se perciben valores atípicos\n",
    "* Parece tener tener una distribución normal sesgada a la derecha"
   ]
  },
  {
   "cell_type": "markdown",
   "metadata": {},
   "source": [
    "2. Scatterplot coloreando diferente a cada grupo que se creó: mamífero pequeño y mamífero grande con la variable size_body."
   ]
  },
  {
   "cell_type": "code",
   "execution_count": 56,
   "metadata": {},
   "outputs": [
    {
     "data": {
      "text/html": [
       "<table>\n",
       "<caption>A data.frame: 6 x 4</caption>\n",
       "<thead>\n",
       "\t<tr><th></th><th scope=col>body</th><th scope=col>brain</th><th scope=col>body_size</th><th scope=col>brain_size</th></tr>\n",
       "\t<tr><th></th><th scope=col>&lt;dbl&gt;</th><th scope=col>&lt;dbl&gt;</th><th scope=col>&lt;chr&gt;</th><th scope=col>&lt;chr&gt;</th></tr>\n",
       "</thead>\n",
       "<tbody>\n",
       "\t<tr><th scope=row>Arctic fox</th><td> 1.2193539</td><td>3.795489</td><td>pequenio</td><td>pequenio</td></tr>\n",
       "\t<tr><th scope=row>Owl monkey</th><td>-0.7339692</td><td>2.740840</td><td>pequenio</td><td>pequenio</td></tr>\n",
       "\t<tr><th scope=row>Mountain beaver</th><td> 0.3001046</td><td>2.091864</td><td>pequenio</td><td>pequenio</td></tr>\n",
       "\t<tr><th scope=row>Cow</th><td> 6.1420374</td><td>6.047372</td><td>grande  </td><td>pequenio</td></tr>\n",
       "\t<tr><th scope=row>Grey wolf</th><td> 3.5926438</td><td>4.783316</td><td>grande  </td><td>pequenio</td></tr>\n",
       "\t<tr><th scope=row>Goat</th><td> 3.3199873</td><td>4.744932</td><td>pequenio</td><td>pequenio</td></tr>\n",
       "</tbody>\n",
       "</table>\n"
      ],
      "text/latex": [
       "A data.frame: 6 x 4\n",
       "\\begin{tabular}{r|llll}\n",
       "  & body & brain & body\\_size & brain\\_size\\\\\n",
       "  & <dbl> & <dbl> & <chr> & <chr>\\\\\n",
       "\\hline\n",
       "\tArctic fox &  1.2193539 & 3.795489 & pequenio & pequenio\\\\\n",
       "\tOwl monkey & -0.7339692 & 2.740840 & pequenio & pequenio\\\\\n",
       "\tMountain beaver &  0.3001046 & 2.091864 & pequenio & pequenio\\\\\n",
       "\tCow &  6.1420374 & 6.047372 & grande   & pequenio\\\\\n",
       "\tGrey wolf &  3.5926438 & 4.783316 & grande   & pequenio\\\\\n",
       "\tGoat &  3.3199873 & 4.744932 & pequenio & pequenio\\\\\n",
       "\\end{tabular}\n"
      ],
      "text/markdown": [
       "\n",
       "A data.frame: 6 x 4\n",
       "\n",
       "| <!--/--> | body &lt;dbl&gt; | brain &lt;dbl&gt; | body_size &lt;chr&gt; | brain_size &lt;chr&gt; |\n",
       "|---|---|---|---|---|\n",
       "| Arctic fox |  1.2193539 | 3.795489 | pequenio | pequenio |\n",
       "| Owl monkey | -0.7339692 | 2.740840 | pequenio | pequenio |\n",
       "| Mountain beaver |  0.3001046 | 2.091864 | pequenio | pequenio |\n",
       "| Cow |  6.1420374 | 6.047372 | grande   | pequenio |\n",
       "| Grey wolf |  3.5926438 | 4.783316 | grande   | pequenio |\n",
       "| Goat |  3.3199873 | 4.744932 | pequenio | pequenio |\n",
       "\n"
      ],
      "text/plain": [
       "                body       brain    body_size brain_size\n",
       "Arctic fox       1.2193539 3.795489 pequenio  pequenio  \n",
       "Owl monkey      -0.7339692 2.740840 pequenio  pequenio  \n",
       "Mountain beaver  0.3001046 2.091864 pequenio  pequenio  \n",
       "Cow              6.1420374 6.047372 grande    pequenio  \n",
       "Grey wolf        3.5926438 4.783316 grande    pequenio  \n",
       "Goat             3.3199873 4.744932 pequenio  pequenio  "
      ]
     },
     "metadata": {},
     "output_type": "display_data"
    }
   ],
   "source": [
    "med_body<-median(mammals$body)\n",
    "log_mammals$body_size<-ifelse(log_mammals$body>=med_body,\"grande\",\"pequenio\")\n",
    "med_brain<-median(mammals$brain)\n",
    "log_mammals$brain_size<-ifelse(log_mammals$brain>=med_brain,\"grande\",\"pequenio\")\n",
    "head(log_mammals)"
   ]
  },
  {
   "cell_type": "code",
   "execution_count": 57,
   "metadata": {},
   "outputs": [],
   "source": [
    "library(ggplot2)"
   ]
  },
  {
   "cell_type": "code",
   "execution_count": 77,
   "metadata": {},
   "outputs": [
    {
     "data": {
      "image/png": "[encoded data removed]",
      "text/plain": [
       "plot without title"
      ]
     },
     "metadata": {},
     "output_type": "display_data"
    }
   ],
   "source": [
    "g<-ggplot(data=log_mammals,aes(x=log_mammals$brain,y=log_mammals$body))+\n",
    "    geom_point(aes(color=body_size))\n",
    "g"
   ]
  },
  {
   "cell_type": "markdown",
   "metadata": {},
   "source": [
    "3. Instalar el paquete dplyr para colocar los datos en un formato long y se pueda graficar con el paquete de ggplot2 con la función  gather el dataframe log_mammals. Después de instalar tal paquete, realizar mismo enunciado que a) pero con geom_points y paquete ggplot2.\n"
   ]
  },
  {
   "cell_type": "code",
   "execution_count": 90,
   "metadata": {},
   "outputs": [
    {
     "name": "stderr",
     "output_type": "stream",
     "text": [
      "Installing package into '/usr/local/lib/R/site-library'\n",
      "(as 'lib' is unspecified)\n",
      "Warning message:\n",
      "\"unable to access index for repository https://cloud.r-project.org/src/contrib:\n",
      "  cannot open URL 'https://cloud.r-project.org/src/contrib/PACKAGES'\"Warning message:\n",
      "\"package 'dplyr' is not available (for R version 3.6.0)\""
     ]
    }
   ],
   "source": [
    "install.packages(\"dplyr\")"
   ]
  },
  {
   "cell_type": "markdown",
   "metadata": {},
   "source": [
    "4. Calcular estadísticas como el promedio, mediana, máximo y mínimo por grupos de mamífero pequeño y mamífero grande con dplyr y funciones como group_by, sumarise y el operador %>% (pipe). Ver como ayuda: Data Wrangling with dplyr and tidyr o Data Transformation with dplyr o bien como ejemplo de uso: https://genomicsclass.github.io/book/pages/dplyr_tutorial.html u otro tutorial en la red de dplyr ¿qué mamíferos en cada grupo están en los tres primeros lugares (pensando que se ordenan de forma decreciente en log_brain)?."
   ]
  },
  {
   "cell_type": "code",
   "execution_count": 119,
   "metadata": {},
   "outputs": [
    {
     "name": "stderr",
     "output_type": "stream",
     "text": [
      "Installing package into '/usr/local/lib/R/site-library'\n",
      "(as 'lib' is unspecified)\n",
      "Warning message:\n",
      "\"unable to access index for repository https://cloud.r-project.org/src/contrib:\n",
      "  cannot open URL 'https://cloud.r-project.org/src/contrib/PACKAGES'\"Warning message:\n",
      "\"package 'dplyr' is not available (for R version 3.6.0)\""
     ]
    }
   ],
   "source": [
    "install.packages(\"dplyr\")"
   ]
  },
  {
   "cell_type": "markdown",
   "metadata": {},
   "source": [
    "5. Crea una nueva variable r que sea el cociente entre brain y body. Ordena en orden creciente el dataset de mammals de acuerdo a esta nueva variable. ¿Qué mamíferos tienen los cocientes más grandes? ¿y cuáles los más pequeños?"
   ]
  },
  {
   "cell_type": "code",
   "execution_count": 118,
   "metadata": {},
   "outputs": [
    {
     "name": "stdout",
     "output_type": "stream",
     "text": [
      "[1] \"Los animales con r m<U+00E1>s grande son:\"\n"
     ]
    },
    {
     "data": {
      "text/html": [
       "<table>\n",
       "<caption>A data.frame: 6 x 3</caption>\n",
       "<thead>\n",
       "\t<tr><th></th><th scope=col>body</th><th scope=col>brain</th><th scope=col>r</th></tr>\n",
       "\t<tr><th></th><th scope=col>&lt;dbl&gt;</th><th scope=col>&lt;dbl&gt;</th><th scope=col>&lt;dbl&gt;</th></tr>\n",
       "</thead>\n",
       "<tbody>\n",
       "\t<tr><th scope=row>Ground squirrel</th><td>0.101</td><td>  4.00</td><td>39.60396</td></tr>\n",
       "\t<tr><th scope=row>Owl monkey</th><td>0.480</td><td> 15.50</td><td>32.29167</td></tr>\n",
       "\t<tr><th scope=row>Lesser short-tailed shrew</th><td>0.005</td><td>  0.14</td><td>28.00000</td></tr>\n",
       "\t<tr><th scope=row>Rhesus monkey</th><td>6.800</td><td>179.00</td><td>26.32353</td></tr>\n",
       "\t<tr><th scope=row>Galago</th><td>0.200</td><td>  5.00</td><td>25.00000</td></tr>\n",
       "\t<tr><th scope=row>Little brown bat</th><td>0.010</td><td>  0.25</td><td>25.00000</td></tr>\n",
       "</tbody>\n",
       "</table>\n"
      ],
      "text/latex": [
       "A data.frame: 6 x 3\n",
       "\\begin{tabular}{r|lll}\n",
       "  & body & brain & r\\\\\n",
       "  & <dbl> & <dbl> & <dbl>\\\\\n",
       "\\hline\n",
       "\tGround squirrel & 0.101 &   4.00 & 39.60396\\\\\n",
       "\tOwl monkey & 0.480 &  15.50 & 32.29167\\\\\n",
       "\tLesser short-tailed shrew & 0.005 &   0.14 & 28.00000\\\\\n",
       "\tRhesus monkey & 6.800 & 179.00 & 26.32353\\\\\n",
       "\tGalago & 0.200 &   5.00 & 25.00000\\\\\n",
       "\tLittle brown bat & 0.010 &   0.25 & 25.00000\\\\\n",
       "\\end{tabular}\n"
      ],
      "text/markdown": [
       "\n",
       "A data.frame: 6 x 3\n",
       "\n",
       "| <!--/--> | body &lt;dbl&gt; | brain &lt;dbl&gt; | r &lt;dbl&gt; |\n",
       "|---|---|---|---|\n",
       "| Ground squirrel | 0.101 |   4.00 | 39.60396 |\n",
       "| Owl monkey | 0.480 |  15.50 | 32.29167 |\n",
       "| Lesser short-tailed shrew | 0.005 |   0.14 | 28.00000 |\n",
       "| Rhesus monkey | 6.800 | 179.00 | 26.32353 |\n",
       "| Galago | 0.200 |   5.00 | 25.00000 |\n",
       "| Little brown bat | 0.010 |   0.25 | 25.00000 |\n",
       "\n"
      ],
      "text/plain": [
       "                          body  brain  r       \n",
       "Ground squirrel           0.101   4.00 39.60396\n",
       "Owl monkey                0.480  15.50 32.29167\n",
       "Lesser short-tailed shrew 0.005   0.14 28.00000\n",
       "Rhesus monkey             6.800 179.00 26.32353\n",
       "Galago                    0.200   5.00 25.00000\n",
       "Little brown bat          0.010   0.25 25.00000"
      ]
     },
     "metadata": {},
     "output_type": "display_data"
    }
   ],
   "source": [
    "mammals_r<-mammals\n",
    "mammals_r$r<-mammals$brain/mammals$body\n",
    "print(\"Los animales con r más grande son:\")\n",
    "head(mammals_r[order(mammals_r$r,decreasing=TRUE),])"
   ]
  },
  {
   "cell_type": "markdown",
   "metadata": {},
   "source": [
    "6. Usando 5 realiza un scatterplot de r vs body."
   ]
  },
  {
   "cell_type": "code",
   "execution_count": 121,
   "metadata": {},
   "outputs": [
    {
     "data": {
      "image/png": "[encoded data removed]",
      "text/plain": [
       "plot without title"
      ]
     },
     "metadata": {},
     "output_type": "display_data"
    }
   ],
   "source": [
    "g<-ggplot(data=mammals_r,aes(x=log(mammals_r$body),y=mammals_r$r))+\n",
    "    geom_point()\n",
    "g"
   ]
  },
  {
   "cell_type": "markdown",
   "metadata": {},
   "source": [
    "#### Ejercicio 3\n",
    "Considérese el dataset randu (ejecutar ?randu para una descripción):\n",
    "\n",
    "1. Usar la función mean para calcular la media muestral en cada uno de los números que forman la tripleta: $x, y, z$. Asimismo usar la función var para calcular una matriz de varianzas y covarianzas muestral."
   ]
  },
  {
   "cell_type": "code",
   "execution_count": 141,
   "metadata": {},
   "outputs": [
    {
     "name": "stdout",
     "output_type": "stream",
     "text": [
      "[1] \"La media de X es\"\n"
     ]
    },
    {
     "data": {
      "text/html": [
       "0.526429325"
      ],
      "text/latex": [
       "0.526429325"
      ],
      "text/markdown": [
       "0.526429325"
      ],
      "text/plain": [
       "[1] 0.5264293"
      ]
     },
     "metadata": {},
     "output_type": "display_data"
    },
    {
     "name": "stdout",
     "output_type": "stream",
     "text": [
      "[1] \"La media de Y es\"\n"
     ]
    },
    {
     "data": {
      "text/html": [
       "0.48605309"
      ],
      "text/latex": [
       "0.48605309"
      ],
      "text/markdown": [
       "0.48605309"
      ],
      "text/plain": [
       "[1] 0.4860531"
      ]
     },
     "metadata": {},
     "output_type": "display_data"
    },
    {
     "name": "stdout",
     "output_type": "stream",
     "text": [
      "[1] \"La media de Z es\"\n"
     ]
    },
    {
     "data": {
      "text/html": [
       "0.4809546925"
      ],
      "text/latex": [
       "0.4809546925"
      ],
      "text/markdown": [
       "0.4809546925"
      ],
      "text/plain": [
       "[1] 0.4809547"
      ]
     },
     "metadata": {},
     "output_type": "display_data"
    },
    {
     "name": "stdout",
     "output_type": "stream",
     "text": [
      "[1] \"La matriz de varianzas:\"\n"
     ]
    },
    {
     "data": {
      "text/html": [
       "<table>\n",
       "<caption>A matrix: 3 x 3 of type dbl</caption>\n",
       "<thead>\n",
       "\t<tr><th></th><th scope=col>x</th><th scope=col>y</th><th scope=col>z</th></tr>\n",
       "</thead>\n",
       "<tbody>\n",
       "\t<tr><th scope=row>x</th><td> 0.081231885</td><td>-0.004057683</td><td> 0.004637656</td></tr>\n",
       "\t<tr><th scope=row>y</th><td>-0.004057683</td><td> 0.086270206</td><td>-0.005148432</td></tr>\n",
       "\t<tr><th scope=row>z</th><td> 0.004637656</td><td>-0.005148432</td><td> 0.077860433</td></tr>\n",
       "</tbody>\n",
       "</table>\n"
      ],
      "text/latex": [
       "A matrix: 3 x 3 of type dbl\n",
       "\\begin{tabular}{r|lll}\n",
       "  & x & y & z\\\\\n",
       "\\hline\n",
       "\tx &  0.081231885 & -0.004057683 &  0.004637656\\\\\n",
       "\ty & -0.004057683 &  0.086270206 & -0.005148432\\\\\n",
       "\tz &  0.004637656 & -0.005148432 &  0.077860433\\\\\n",
       "\\end{tabular}\n"
      ],
      "text/markdown": [
       "\n",
       "A matrix: 3 x 3 of type dbl\n",
       "\n",
       "| <!--/--> | x | y | z |\n",
       "|---|---|---|---|\n",
       "| x |  0.081231885 | -0.004057683 |  0.004637656 |\n",
       "| y | -0.004057683 |  0.086270206 | -0.005148432 |\n",
       "| z |  0.004637656 | -0.005148432 |  0.077860433 |\n",
       "\n"
      ],
      "text/plain": [
       "  x            y            z           \n",
       "x  0.081231885 -0.004057683  0.004637656\n",
       "y -0.004057683  0.086270206 -0.005148432\n",
       "z  0.004637656 -0.005148432  0.077860433"
      ]
     },
     "metadata": {},
     "output_type": "display_data"
    },
    {
     "name": "stdout",
     "output_type": "stream",
     "text": [
      "[1] \"La matriz de covarianzas:\"\n"
     ]
    },
    {
     "data": {
      "text/html": [
       "<table>\n",
       "<caption>A matrix: 3 x 3 of type dbl</caption>\n",
       "<thead>\n",
       "\t<tr><th></th><th scope=col>x</th><th scope=col>y</th><th scope=col>z</th></tr>\n",
       "</thead>\n",
       "<tbody>\n",
       "\t<tr><th scope=row>x</th><td> 0.081231885</td><td>-0.004057683</td><td> 0.004637656</td></tr>\n",
       "\t<tr><th scope=row>y</th><td>-0.004057683</td><td> 0.086270206</td><td>-0.005148432</td></tr>\n",
       "\t<tr><th scope=row>z</th><td> 0.004637656</td><td>-0.005148432</td><td> 0.077860433</td></tr>\n",
       "</tbody>\n",
       "</table>\n"
      ],
      "text/latex": [
       "A matrix: 3 x 3 of type dbl\n",
       "\\begin{tabular}{r|lll}\n",
       "  & x & y & z\\\\\n",
       "\\hline\n",
       "\tx &  0.081231885 & -0.004057683 &  0.004637656\\\\\n",
       "\ty & -0.004057683 &  0.086270206 & -0.005148432\\\\\n",
       "\tz &  0.004637656 & -0.005148432 &  0.077860433\\\\\n",
       "\\end{tabular}\n"
      ],
      "text/markdown": [
       "\n",
       "A matrix: 3 x 3 of type dbl\n",
       "\n",
       "| <!--/--> | x | y | z |\n",
       "|---|---|---|---|\n",
       "| x |  0.081231885 | -0.004057683 |  0.004637656 |\n",
       "| y | -0.004057683 |  0.086270206 | -0.005148432 |\n",
       "| z |  0.004637656 | -0.005148432 |  0.077860433 |\n",
       "\n"
      ],
      "text/plain": [
       "  x            y            z           \n",
       "x  0.081231885 -0.004057683  0.004637656\n",
       "y -0.004057683  0.086270206 -0.005148432\n",
       "z  0.004637656 -0.005148432  0.077860433"
      ]
     },
     "metadata": {},
     "output_type": "display_data"
    }
   ],
   "source": [
    "data<-randu\n",
    "print(\"La media de X es\")\n",
    "mean(data$x)\n",
    "print(\"La media de Y es\")\n",
    "mean(data$y)\n",
    "print(\"La media de Z es\")\n",
    "mean(data$z)\n",
    "\n",
    "print(\"La matriz de varianzas:\")\n",
    "var(data)\n",
    "\n",
    "\n",
    "print(\"La matriz de covarianzas:\")\n",
    "cov(data)\n"
   ]
  },
  {
   "cell_type": "markdown",
   "metadata": {},
   "source": [
    "2. Queremos ver la distribución del promedio por renglón de cada observación del dataset randu, para esto utilizar la función de apply para calcular tal promedio, alternativamente usar rowMeans.\n"
   ]
  },
  {
   "cell_type": "code",
   "execution_count": 146,
   "metadata": {},
   "outputs": [
    {
     "data": {
      "text/html": [
       "<table>\n",
       "<caption>A data.frame: 6 x 4</caption>\n",
       "<thead>\n",
       "\t<tr><th scope=col>x</th><th scope=col>y</th><th scope=col>z</th><th scope=col>means</th></tr>\n",
       "\t<tr><th scope=col>&lt;dbl&gt;</th><th scope=col>&lt;dbl&gt;</th><th scope=col>&lt;dbl&gt;</th><th scope=col>&lt;dbl&gt;</th></tr>\n",
       "</thead>\n",
       "<tbody>\n",
       "\t<tr><td>0.000031</td><td>0.000183</td><td>0.000824</td><td>0.0003460</td></tr>\n",
       "\t<tr><td>0.044495</td><td>0.155732</td><td>0.533939</td><td>0.2447220</td></tr>\n",
       "\t<tr><td>0.822440</td><td>0.873416</td><td>0.838542</td><td>0.8447993</td></tr>\n",
       "\t<tr><td>0.322291</td><td>0.648545</td><td>0.990648</td><td>0.6538280</td></tr>\n",
       "\t<tr><td>0.393595</td><td>0.826873</td><td>0.418881</td><td>0.5464497</td></tr>\n",
       "\t<tr><td>0.309097</td><td>0.926590</td><td>0.777664</td><td>0.6711170</td></tr>\n",
       "</tbody>\n",
       "</table>\n"
      ],
      "text/latex": [
       "A data.frame: 6 x 4\n",
       "\\begin{tabular}{r|llll}\n",
       " x & y & z & means\\\\\n",
       " <dbl> & <dbl> & <dbl> & <dbl>\\\\\n",
       "\\hline\n",
       "\t 0.000031 & 0.000183 & 0.000824 & 0.0003460\\\\\n",
       "\t 0.044495 & 0.155732 & 0.533939 & 0.2447220\\\\\n",
       "\t 0.822440 & 0.873416 & 0.838542 & 0.8447993\\\\\n",
       "\t 0.322291 & 0.648545 & 0.990648 & 0.6538280\\\\\n",
       "\t 0.393595 & 0.826873 & 0.418881 & 0.5464497\\\\\n",
       "\t 0.309097 & 0.926590 & 0.777664 & 0.6711170\\\\\n",
       "\\end{tabular}\n"
      ],
      "text/markdown": [
       "\n",
       "A data.frame: 6 x 4\n",
       "\n",
       "| x &lt;dbl&gt; | y &lt;dbl&gt; | z &lt;dbl&gt; | means &lt;dbl&gt; |\n",
       "|---|---|---|---|\n",
       "| 0.000031 | 0.000183 | 0.000824 | 0.0003460 |\n",
       "| 0.044495 | 0.155732 | 0.533939 | 0.2447220 |\n",
       "| 0.822440 | 0.873416 | 0.838542 | 0.8447993 |\n",
       "| 0.322291 | 0.648545 | 0.990648 | 0.6538280 |\n",
       "| 0.393595 | 0.826873 | 0.418881 | 0.5464497 |\n",
       "| 0.309097 | 0.926590 | 0.777664 | 0.6711170 |\n",
       "\n"
      ],
      "text/plain": [
       "  x        y        z        means    \n",
       "1 0.000031 0.000183 0.000824 0.0003460\n",
       "2 0.044495 0.155732 0.533939 0.2447220\n",
       "3 0.822440 0.873416 0.838542 0.8447993\n",
       "4 0.322291 0.648545 0.990648 0.6538280\n",
       "5 0.393595 0.826873 0.418881 0.5464497\n",
       "6 0.309097 0.926590 0.777664 0.6711170"
      ]
     },
     "metadata": {},
     "output_type": "display_data"
    }
   ],
   "source": [
    "data$means<-rowMeans(data)\n",
    "head(data)"
   ]
  },
  {
   "cell_type": "markdown",
   "metadata": {},
   "source": [
    "3. Utilizar la función hist del paquete base para calcular un histograma con los breaks definido por tal función.\n"
   ]
  },
  {
   "cell_type": "code",
   "execution_count": 147,
   "metadata": {},
   "outputs": [
    {
     "data": {
      "image/png": "[encoded data removed]",
      "text/plain": [
       "Plot with title \"Histogram of data$means\""
      ]
     },
     "metadata": {},
     "output_type": "display_data"
    }
   ],
   "source": [
    "hist(data$means)"
   ]
  },
  {
   "cell_type": "markdown",
   "metadata": {},
   "source": [
    "4. Calcular sus propios breaks y volver a graficar el histograma con hist y con geom_histogram del paquete ggplot2.\n"
   ]
  },
  {
   "cell_type": "code",
   "execution_count": 150,
   "metadata": {},
   "outputs": [
    {
     "data": {
      "image/png": "[encoded data removed]",
      "text/plain": [
       "Plot with title \"Histogram of data$means\""
      ]
     },
     "metadata": {},
     "output_type": "display_data"
    }
   ],
   "source": [
    "hist(data$means,breaks=c(0,.2,.4,.6,.8,1))"
   ]
  },
  {
   "cell_type": "code",
   "execution_count": 152,
   "metadata": {},
   "outputs": [
    {
     "data": {
      "image/png": "[encoded data removed]",
      "text/plain": [
       "plot without title"
      ]
     },
     "metadata": {},
     "output_type": "display_data"
    }
   ],
   "source": [
    "g<-ggplot()+geom_histogram(aes(data$means),breaks=c(0,.2,.4,.6,.8,1))\n",
    "g"
   ]
  },
  {
   "cell_type": "markdown",
   "metadata": {},
   "source": [
    "\n",
    "5. Utilizar la función qqnorm para comparar los cuantiles de una distribución normal con la distribución de las medias muestrales obtenidos en el inciso b). Sólo de forma visual ¿qué se puede concluir sobre la distribución de las medias muestrales calculadas en b)? (puedes añadir una línea al gráfico con qqline)."
   ]
  },
  {
   "cell_type": "code",
   "execution_count": 159,
   "metadata": {},
   "outputs": [
    {
     "name": "stdout",
     "output_type": "stream",
     "text": [
      "[1] \"Se puede concluir que tienen una distribuci<U+00F3>n normal\"\n"
     ]
    },
    {
     "data": {
      "image/png": "[encoded data removed]",
      "text/plain": [
       "Plot with title \"Normal Q-Q Plot\""
      ]
     },
     "metadata": {},
     "output_type": "display_data"
    }
   ],
   "source": [
    "qqnorm(data$means)\n",
    "print(\"Se puede concluir que tienen una distribución normal\")"
   ]
  },
  {
   "cell_type": "markdown",
   "metadata": {},
   "source": [
    "## Ejercicio 4\n",
    "Realizar gráficas con el comando qqplot para comparar $2$ distribuciones de datos, por ejemplo:"
   ]
  },
  {
   "cell_type": "code",
   "execution_count": 165,
   "metadata": {},
   "outputs": [
    {
     "data": {
      "image/png": "[encoded data removed]",
      "text/plain": [
       "plot without title"
      ]
     },
     "metadata": {},
     "output_type": "display_data"
    }
   ],
   "source": [
    "n<-500\n",
    "set.seed(2000)\n",
    "par(cex=0.5) #control size of labels\n",
    "datos<- qqplot(rnorm(n), rexp(n)/n, cex=.1, xlab='', ylab='')"
   ]
  },
  {
   "cell_type": "markdown",
   "metadata": {},
   "source": [
    "En esta distribución los datos están sesgados a la izquierda por que es concava hacia arriba. También por que en la parte de la derecha podemos observar que hay menor densidad de puntos."
   ]
  },
  {
   "cell_type": "code",
   "execution_count": 180,
   "metadata": {},
   "outputs": [
    {
     "data": {
      "image/png": "[encoded data removed]",
      "text/plain": [
       "plot without title"
      ]
     },
     "metadata": {},
     "output_type": "display_data"
    }
   ],
   "source": [
    "n<-500\n",
    "set.seed(200)\n",
    "par(cex=0.5) #control size of labels\n",
    "datos<- qqplot(rnorm(n) ,sin(rnorm(n)), cex=.1, xlab='', ylab='')\n",
    "abline(0,1)"
   ]
  },
  {
   "cell_type": "markdown",
   "metadata": {},
   "source": [
    "Esta distribución da la impresión de que es una distribución de tener pocos elementos en las colas, también de comportarse como una distribución uniforme en toda la parte central."
   ]
  },
  {
   "cell_type": "markdown",
   "metadata": {},
   "source": [
    "# Distribuciones comunes\n",
    "#### Ejercicio 1\n",
    "Supóngase que el tiempo (en minutos) que una persona espera el Metrobús los días de semana sigue una distribución uniforme dada por, $$f(x) = \\begin{cases}\n",
    "\\frac{1}{12} ; \\text{si } 0 \\leq x \\leq 12,\\\\\n",
    "0 ; \\text{en otro caso}\n",
    "\\end{cases}$$\n",
    "1. ¿Cuál es la probabilidad que una persona espere menos de $6$ minutos?.\n",
    "2. ¿Su tiempo medio de espera? ¿su desviación estándar?."
   ]
  },
  {
   "cell_type": "code",
   "execution_count": 185,
   "metadata": {},
   "outputs": [
    {
     "name": "stdout",
     "output_type": "stream",
     "text": [
      "[1] \"Es una distribucion de caso continuo\"\n",
      "[1] \"La probabilidad de esperar menos de 6 minutos es\"\n"
     ]
    },
    {
     "data": {
      "text/html": [
       "0.5"
      ],
      "text/latex": [
       "0.5"
      ],
      "text/markdown": [
       "0.5"
      ],
      "text/plain": [
       "[1] 0.5"
      ]
     },
     "metadata": {},
     "output_type": "display_data"
    }
   ],
   "source": [
    "print(\"Es una distribucion de caso continuo\")\n",
    "print(\"La probabilidad de esperar menos de 6 minutos es\")\n",
    "punif(6,0,12)"
   ]
  },
  {
   "cell_type": "markdown",
   "metadata": {},
   "source": [
    "El tiempo medio de espera es:\n",
    "$$\\mu = \\frac{0+12}{2} = 6 \\text{ minutos}$$\n",
    "\n",
    "La desviación estandar es:\n",
    "$$\\sigma = \\sqrt{\\frac{(12-0)^2}{12}} = 3.46 \\text{ minutos}.$$"
   ]
  },
  {
   "cell_type": "markdown",
   "metadata": {},
   "source": [
    "#### Ejercicio 2\n",
    "Considérese lanzamientos de una moneda no cargada. Sea $X$ la variable aleatoria que cuenta el número de águilas en $10$ lanzamientos. Calcular en R la probabilidad $P(X \\geq 3)$ con la función pbinom y dbinom, el número medio de águilas y su desviación estándar."
   ]
  },
  {
   "cell_type": "code",
   "execution_count": 229,
   "metadata": {},
   "outputs": [
    {
     "name": "stdout",
     "output_type": "stream",
     "text": [
      "[1] \"La probabilidad de obtener 3 o mas aguilas es_:\"\n"
     ]
    },
    {
     "data": {
      "text/html": [
       "0.9453125"
      ],
      "text/latex": [
       "0.9453125"
      ],
      "text/markdown": [
       "0.9453125"
      ],
      "text/plain": [
       "[1] 0.9453125"
      ]
     },
     "metadata": {},
     "output_type": "display_data"
    },
    {
     "name": "stdout",
     "output_type": "stream",
     "text": [
      "[1] \"La probabilidad de obtener 3 o mas aguilas es (usando pbinom):\"\n"
     ]
    },
    {
     "data": {
      "text/html": [
       "0.9453125"
      ],
      "text/latex": [
       "0.9453125"
      ],
      "text/markdown": [
       "0.9453125"
      ],
      "text/plain": [
       "[1] 0.9453125"
      ]
     },
     "metadata": {},
     "output_type": "display_data"
    }
   ],
   "source": [
    "print(\"La probabilidad de obtener 3 o mas aguilas es_:\")\n",
    "sum(dbinom(c(3:10),10,1/2))\n",
    "\n",
    "print(\"La probabilidad de obtener 3 o mas aguilas es (usando pbinom):\")\n",
    "pbinom(2,10,1/2,lower.tail=FALSE)"
   ]
  },
  {
   "cell_type": "markdown",
   "metadata": {},
   "source": [
    "El número medio de águilas es:\n",
    "$$\\mu = np = 10*\\frac{1}{2} = 5$$\n",
    "\n",
    "con desviación estándar:\n",
    "$$\\sigma = \\sqrt{np(1-p)} = \\sqrt{10*\\frac{1}{2}*\\frac{1}{2}} \\approx 1.5811$$"
   ]
  },
  {
   "cell_type": "markdown",
   "metadata": {},
   "source": [
    "#### Ejercicio 3\n",
    "Considérese una población de votantes en la ciudad de México. Se reporta que la proporción de votantes que favorecen al candidato del partido Naranja es igual a $0.40$. Dada una muestra aleatoria de $200$ votantes, ¿cuál es la probabilidad de que más de la mitad de ellos tengan intención de voto por el candidato naranja? Usar:\n",
    "1. pbinom"
   ]
  },
  {
   "cell_type": "code",
   "execution_count": 21,
   "metadata": {},
   "outputs": [
    {
     "name": "stdout",
     "output_type": "stream",
     "text": [
      "[1] \"La probabilidad de que la mitad del ellos voten pro el candidato naranja es:\"\n"
     ]
    },
    {
     "data": {
      "text/html": [
       "0.00263540335619095"
      ],
      "text/latex": [
       "0.00263540335619095"
      ],
      "text/markdown": [
       "0.00263540335619095"
      ],
      "text/plain": [
       "[1] 0.002635403"
      ]
     },
     "metadata": {},
     "output_type": "display_data"
    }
   ],
   "source": [
    "print(\"La probabilidad de que la mitad del ellos voten pro el candidato naranja es:\")\n",
    "pbinom(100,200,.6)\n"
   ]
  },
  {
   "cell_type": "markdown",
   "metadata": {},
   "source": [
    "2. El teorema del límite central y pnorm considerando lo que se conoce como corrección por continuidad: si $B$ es variable aleatoria binomial con $\\mu$ y $\\sigma$ entonces $P(B=k) = P(k-0.5 <X<k+0.5)$ con $X$ variable aleatoria normal $N(\\mu,\\sigma)$ y $k$ un número entero no negativo.\n"
   ]
  },
  {
   "cell_type": "markdown",
   "metadata": {},
   "source": [
    "4) Supongamos que el ingreso anual de un imigrante mexicano en los EUA se distribuye de forma normal con una media de $\\$30,000$ y una desviación estándar de $\\$10,000$ dólares. ¿Cuál es la probabilidad de que un inmigrante mexicano gane menos de $\\$20,000$ dólares anuales? ¿Cuál es la probabilidad de que su ingreso sea mayor a los $\\$50,000$ dólares anuales? (usar R)."
   ]
  },
  {
   "cell_type": "code",
   "execution_count": 32,
   "metadata": {},
   "outputs": [
    {
     "name": "stdout",
     "output_type": "stream",
     "text": [
      "[1] \"La prob de que gane menos de 20,000 es:\"\n"
     ]
    },
    {
     "data": {
      "text/html": [
       "0.158655253931457"
      ],
      "text/latex": [
       "0.158655253931457"
      ],
      "text/markdown": [
       "0.158655253931457"
      ],
      "text/plain": [
       "[1] 0.1586553"
      ]
     },
     "metadata": {},
     "output_type": "display_data"
    },
    {
     "name": "stdout",
     "output_type": "stream",
     "text": [
      "[1] \"La prob de que gane mas de 50,000 es:\"\n"
     ]
    },
    {
     "data": {
      "text/html": [
       "0.0227501319481792"
      ],
      "text/latex": [
       "0.0227501319481792"
      ],
      "text/markdown": [
       "0.0227501319481792"
      ],
      "text/plain": [
       "[1] 0.02275013"
      ]
     },
     "metadata": {},
     "output_type": "display_data"
    }
   ],
   "source": [
    "mu<-30000\n",
    "sigma<-10000\n",
    "\n",
    "print(\"La prob de que gane menos de 20,000 es:\")\n",
    "pnorm(20000,mu,sigma)\n",
    "\n",
    "print(\"La prob de que gane mas de 50,000 es:\")\n",
    "pnorm(50000,mu,sigma,lower.tail=FALSE)"
   ]
  },
  {
   "cell_type": "markdown",
   "metadata": {},
   "source": [
    "Por: Juan Pablo Herrera\n",
    "CU: 108353\n",
    "Propedeutico MCD"
   ]
  }
 ],
 "metadata": {
  "kernelspec": {
   "display_name": "R",
   "language": "R",
   "name": "ir"
  },
  "language_info": {
   "codemirror_mode": "r",
   "file_extension": ".r",
   "mimetype": "text/x-r-source",
   "name": "R",
   "pygments_lexer": "r",
   "version": "3.6.0"
  }
 },
 "nbformat": 4,
 "nbformat_minor": 2
}
