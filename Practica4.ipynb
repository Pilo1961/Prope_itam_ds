{
 "cells": [
  {
   "cell_type": "markdown",
   "metadata": {},
   "source": [
    "# Práctica 4"
   ]
  },
  {
   "cell_type": "code",
   "execution_count": 88,
   "metadata": {},
   "outputs": [],
   "source": [
    "options(repr.plot.width=4, repr.plot.height=4) #esta línea sólo se ejecuta para jupyterlab con R"
   ]
  },
  {
   "cell_type": "markdown",
   "metadata": {},
   "source": [
    "### Ejercicio. Elementos de probabilidad\n",
    "¿Cómo representar las probabilidades anteriores con la función urnsamples?\n",
    "* Lanzamiento de un dado justo\n",
    "* Lanzamiento de una moneda cargada"
   ]
  },
  {
   "cell_type": "code",
   "execution_count": 4,
   "metadata": {},
   "outputs": [
    {
     "name": "stderr",
     "output_type": "stream",
     "text": [
      "Loading required package: combinat\n",
      "\n",
      "Attaching package: 'combinat'\n",
      "\n",
      "The following object is masked from 'package:utils':\n",
      "\n",
      "    combn\n",
      "\n",
      "Loading required package: fAsianOptions\n",
      "Loading required package: timeDate\n",
      "Loading required package: timeSeries\n",
      "Loading required package: fBasics\n",
      "Loading required package: fOptions\n",
      "\n",
      "Attaching package: 'prob'\n",
      "\n",
      "The following objects are masked from 'package:base':\n",
      "\n",
      "    intersect, setdiff, union\n",
      "\n"
     ]
    }
   ],
   "source": [
    "library(prob)"
   ]
  },
  {
   "cell_type": "code",
   "execution_count": 9,
   "metadata": {},
   "outputs": [
    {
     "data": {
      "text/html": [
       "<table>\n",
       "<caption>A data.frame: 6 x 2</caption>\n",
       "<thead>\n",
       "\t<tr><th scope=col>out</th><th scope=col>probs</th></tr>\n",
       "\t<tr><th scope=col>&lt;int&gt;</th><th scope=col>&lt;dbl&gt;</th></tr>\n",
       "</thead>\n",
       "<tbody>\n",
       "\t<tr><td>1</td><td>0.1666667</td></tr>\n",
       "\t<tr><td>2</td><td>0.1666667</td></tr>\n",
       "\t<tr><td>3</td><td>0.1666667</td></tr>\n",
       "\t<tr><td>4</td><td>0.1666667</td></tr>\n",
       "\t<tr><td>5</td><td>0.1666667</td></tr>\n",
       "\t<tr><td>6</td><td>0.1666667</td></tr>\n",
       "</tbody>\n",
       "</table>\n"
      ],
      "text/latex": [
       "A data.frame: 6 x 2\n",
       "\\begin{tabular}{r|ll}\n",
       " out & probs\\\\\n",
       " <int> & <dbl>\\\\\n",
       "\\hline\n",
       "\t 1 & 0.1666667\\\\\n",
       "\t 2 & 0.1666667\\\\\n",
       "\t 3 & 0.1666667\\\\\n",
       "\t 4 & 0.1666667\\\\\n",
       "\t 5 & 0.1666667\\\\\n",
       "\t 6 & 0.1666667\\\\\n",
       "\\end{tabular}\n"
      ],
      "text/markdown": [
       "\n",
       "A data.frame: 6 x 2\n",
       "\n",
       "| out &lt;int&gt; | probs &lt;dbl&gt; |\n",
       "|---|---|\n",
       "| 1 | 0.1666667 |\n",
       "| 2 | 0.1666667 |\n",
       "| 3 | 0.1666667 |\n",
       "| 4 | 0.1666667 |\n",
       "| 5 | 0.1666667 |\n",
       "| 6 | 0.1666667 |\n",
       "\n"
      ],
      "text/plain": [
       "  out probs    \n",
       "1 1   0.1666667\n",
       "2 2   0.1666667\n",
       "3 3   0.1666667\n",
       "4 4   0.1666667\n",
       "5 5   0.1666667\n",
       "6 6   0.1666667"
      ]
     },
     "metadata": {},
     "output_type": "display_data"
    }
   ],
   "source": [
    "#Podemos usar urnsamples simular el lanzamiento de un dado\n",
    "probspace(urnsamples(c(1:6),size=1))"
   ]
  },
  {
   "cell_type": "code",
   "execution_count": 12,
   "metadata": {},
   "outputs": [
    {
     "data": {
      "text/html": [
       "<table>\n",
       "<caption>A data.frame: 2 x 2</caption>\n",
       "<thead>\n",
       "\t<tr><th scope=col>out</th><th scope=col>probs</th></tr>\n",
       "\t<tr><th scope=col>&lt;fct&gt;</th><th scope=col>&lt;dbl&gt;</th></tr>\n",
       "</thead>\n",
       "<tbody>\n",
       "\t<tr><td>aguila</td><td>0.3</td></tr>\n",
       "\t<tr><td>sol   </td><td>0.7</td></tr>\n",
       "</tbody>\n",
       "</table>\n"
      ],
      "text/latex": [
       "A data.frame: 2 x 2\n",
       "\\begin{tabular}{r|ll}\n",
       " out & probs\\\\\n",
       " <fct> & <dbl>\\\\\n",
       "\\hline\n",
       "\t aguila & 0.3\\\\\n",
       "\t sol    & 0.7\\\\\n",
       "\\end{tabular}\n"
      ],
      "text/markdown": [
       "\n",
       "A data.frame: 2 x 2\n",
       "\n",
       "| out &lt;fct&gt; | probs &lt;dbl&gt; |\n",
       "|---|---|\n",
       "| aguila | 0.3 |\n",
       "| sol    | 0.7 |\n",
       "\n"
      ],
      "text/plain": [
       "  out    probs\n",
       "1 aguila 0.3  \n",
       "2 sol    0.7  "
      ]
     },
     "metadata": {},
     "output_type": "display_data"
    }
   ],
   "source": [
    "#También para simular el lanzamiento de una moneda cargada\n",
    "x<-c(rep(\"aguila\",3),rep(\"sol\",7))\n",
    "marginal(probspace(urnsamples(x,size=1)))"
   ]
  },
  {
   "cell_type": "markdown",
   "metadata": {},
   "source": [
    "### Ejercicio. Probabilidad condicional\n",
    "Considérese una urna con $10$ canicas: $7$ son rojas y $3$ son verdes y se seleccionan $3$ canicas. \n",
    "* Extraer dos canicas rojas\n",
    "* Extraer roja, verde, roja (en este orden)\n",
    "* Extraer roja, verde, roja (no importa el orden)"
   ]
  },
  {
   "cell_type": "code",
   "execution_count": 50,
   "metadata": {},
   "outputs": [],
   "source": [
    "#Generamos el arreglo de 10 canicas y el espacio de probabilidad\n",
    "\n",
    "x<-c(rep(\"red\",7),rep(\"green\",3)) # Armamos la muestra de 10 canicas \n",
    "p_s<-probspace(urnsamples(x,size=3,ordered=T,replace=F)) #Calculamos el espacio muestral y el espacio de probabilidades\n",
    "#Nota. no usamos el caso ordered=F para tener un espacion que nos sirva para los 3 casos a calcular"
   ]
  },
  {
   "cell_type": "code",
   "execution_count": 58,
   "metadata": {},
   "outputs": [
    {
     "name": "stdout",
     "output_type": "stream",
     "text": [
      "[1] \"La probabilidad de sacar al menos dos canicas rojas es:\"\n"
     ]
    },
    {
     "data": {
      "text/html": [
       "0.816666666666667"
      ],
      "text/latex": [
       "0.816666666666667"
      ],
      "text/markdown": [
       "0.816666666666667"
      ],
      "text/plain": [
       "[1] 0.8166667"
      ]
     },
     "metadata": {},
     "output_type": "display_data"
    }
   ],
   "source": [
    "#Calculamos extraer dos canicas rojas\n",
    "#Tomamos en cuenta el caso de solamente 2 rojas y el caso de 3 rojas\n",
    "\n",
    "p<-Prob(p_s,isrep(p_s,vals=\"red\",nrep=2)) # Buscamos los casos en que aparecen dos canicas rojas\n",
    "p<-p+Prob(p_s,isrep(p_s,vals=\"red\",nrep=3)) # Buscamos los casos en que aparecen dos canicas rojas\n",
    "print(\"La probabilidad de sacar al menos dos canicas rojas es:\")\n",
    "p"
   ]
  },
  {
   "cell_type": "code",
   "execution_count": 52,
   "metadata": {},
   "outputs": [
    {
     "name": "stdout",
     "output_type": "stream",
     "text": [
      "[1] \"La probabilidad de sacar roja verde roja (en ese orden) es:\"\n"
     ]
    },
    {
     "data": {
      "text/html": [
       "0.175"
      ],
      "text/latex": [
       "0.175"
      ],
      "text/markdown": [
       "0.175"
      ],
      "text/plain": [
       "[1] 0.175"
      ]
     },
     "metadata": {},
     "output_type": "display_data"
    }
   ],
   "source": [
    "#Extraer roja verde roja (en ese orden)\n",
    "\n",
    "p<-Prob(p_s,X1==\"red\" & X2==\"green\" & X3==\"red\") # Buscamos los casos en que aparecen dos canicas rojas\n",
    "print(\"La probabilidad de sacar roja verde roja (en ese orden) es:\")\n",
    "p"
   ]
  },
  {
   "cell_type": "code",
   "execution_count": 56,
   "metadata": {},
   "outputs": [
    {
     "name": "stdout",
     "output_type": "stream",
     "text": [
      "[1] \"La probabilidad de sacar dos canicas rojas es:\"\n"
     ]
    },
    {
     "data": {
      "text/html": [
       "0.525"
      ],
      "text/latex": [
       "0.525"
      ],
      "text/markdown": [
       "0.525"
      ],
      "text/plain": [
       "[1] 0.525"
      ]
     },
     "metadata": {},
     "output_type": "display_data"
    }
   ],
   "source": [
    "#Extraer roja verde roja (sin orden)\n",
    "#Es similar a solamente extraer dos canicas rojas\n",
    "\n",
    "p<-Prob(p_s,isrep(p_s,vals=\"red\",nrep=2)) # Buscamos los casos en que aparecen dos canicas rojas\n",
    "print(\"La probabilidad de sacar dos canicas rojas es:\")\n",
    "p"
   ]
  },
  {
   "cell_type": "code",
   "execution_count": 61,
   "metadata": {},
   "outputs": [
    {
     "name": "stdout",
     "output_type": "stream",
     "text": [
      "[1] \"Espacio de probabilidades del experimento, SI importa el orden\"\n"
     ]
    },
    {
     "data": {
      "text/html": [
       "<table>\n",
       "<caption>A data.frame: 8 x 4</caption>\n",
       "<thead>\n",
       "\t<tr><th scope=col>X1</th><th scope=col>X2</th><th scope=col>X3</th><th scope=col>probs</th></tr>\n",
       "\t<tr><th scope=col>&lt;fct&gt;</th><th scope=col>&lt;fct&gt;</th><th scope=col>&lt;fct&gt;</th><th scope=col>&lt;dbl&gt;</th></tr>\n",
       "</thead>\n",
       "<tbody>\n",
       "\t<tr><td>green</td><td>green</td><td>green</td><td>0.008333333</td></tr>\n",
       "\t<tr><td>red  </td><td>green</td><td>green</td><td>0.058333333</td></tr>\n",
       "\t<tr><td>green</td><td>red  </td><td>green</td><td>0.058333333</td></tr>\n",
       "\t<tr><td>red  </td><td>red  </td><td>green</td><td>0.175000000</td></tr>\n",
       "\t<tr><td>green</td><td>green</td><td>red  </td><td>0.058333333</td></tr>\n",
       "\t<tr><td>red  </td><td>green</td><td>red  </td><td>0.175000000</td></tr>\n",
       "\t<tr><td>green</td><td>red  </td><td>red  </td><td>0.175000000</td></tr>\n",
       "\t<tr><td>red  </td><td>red  </td><td>red  </td><td>0.291666667</td></tr>\n",
       "</tbody>\n",
       "</table>\n"
      ],
      "text/latex": [
       "A data.frame: 8 x 4\n",
       "\\begin{tabular}{r|llll}\n",
       " X1 & X2 & X3 & probs\\\\\n",
       " <fct> & <fct> & <fct> & <dbl>\\\\\n",
       "\\hline\n",
       "\t green & green & green & 0.008333333\\\\\n",
       "\t red   & green & green & 0.058333333\\\\\n",
       "\t green & red   & green & 0.058333333\\\\\n",
       "\t red   & red   & green & 0.175000000\\\\\n",
       "\t green & green & red   & 0.058333333\\\\\n",
       "\t red   & green & red   & 0.175000000\\\\\n",
       "\t green & red   & red   & 0.175000000\\\\\n",
       "\t red   & red   & red   & 0.291666667\\\\\n",
       "\\end{tabular}\n"
      ],
      "text/markdown": [
       "\n",
       "A data.frame: 8 x 4\n",
       "\n",
       "| X1 &lt;fct&gt; | X2 &lt;fct&gt; | X3 &lt;fct&gt; | probs &lt;dbl&gt; |\n",
       "|---|---|---|---|\n",
       "| green | green | green | 0.008333333 |\n",
       "| red   | green | green | 0.058333333 |\n",
       "| green | red   | green | 0.058333333 |\n",
       "| red   | red   | green | 0.175000000 |\n",
       "| green | green | red   | 0.058333333 |\n",
       "| red   | green | red   | 0.175000000 |\n",
       "| green | red   | red   | 0.175000000 |\n",
       "| red   | red   | red   | 0.291666667 |\n",
       "\n"
      ],
      "text/plain": [
       "  X1    X2    X3    probs      \n",
       "1 green green green 0.008333333\n",
       "2 red   green green 0.058333333\n",
       "3 green red   green 0.058333333\n",
       "4 red   red   green 0.175000000\n",
       "5 green green red   0.058333333\n",
       "6 red   green red   0.175000000\n",
       "7 green red   red   0.175000000\n",
       "8 red   red   red   0.291666667"
      ]
     },
     "metadata": {},
     "output_type": "display_data"
    },
    {
     "name": "stdout",
     "output_type": "stream",
     "text": [
      "[1] \"Espacio de probabilidades del experimento, NO importa el orden\"\n"
     ]
    },
    {
     "data": {
      "text/html": [
       "<table>\n",
       "<caption>A data.frame: 4 x 4</caption>\n",
       "<thead>\n",
       "\t<tr><th scope=col>X1</th><th scope=col>X2</th><th scope=col>X3</th><th scope=col>probs</th></tr>\n",
       "\t<tr><th scope=col>&lt;fct&gt;</th><th scope=col>&lt;fct&gt;</th><th scope=col>&lt;fct&gt;</th><th scope=col>&lt;dbl&gt;</th></tr>\n",
       "</thead>\n",
       "<tbody>\n",
       "\t<tr><td>green</td><td>green</td><td>green</td><td>0.008333333</td></tr>\n",
       "\t<tr><td>red  </td><td>green</td><td>green</td><td>0.175000000</td></tr>\n",
       "\t<tr><td>red  </td><td>red  </td><td>green</td><td>0.525000000</td></tr>\n",
       "\t<tr><td>red  </td><td>red  </td><td>red  </td><td>0.291666667</td></tr>\n",
       "</tbody>\n",
       "</table>\n"
      ],
      "text/latex": [
       "A data.frame: 4 x 4\n",
       "\\begin{tabular}{r|llll}\n",
       " X1 & X2 & X3 & probs\\\\\n",
       " <fct> & <fct> & <fct> & <dbl>\\\\\n",
       "\\hline\n",
       "\t green & green & green & 0.008333333\\\\\n",
       "\t red   & green & green & 0.175000000\\\\\n",
       "\t red   & red   & green & 0.525000000\\\\\n",
       "\t red   & red   & red   & 0.291666667\\\\\n",
       "\\end{tabular}\n"
      ],
      "text/markdown": [
       "\n",
       "A data.frame: 4 x 4\n",
       "\n",
       "| X1 &lt;fct&gt; | X2 &lt;fct&gt; | X3 &lt;fct&gt; | probs &lt;dbl&gt; |\n",
       "|---|---|---|---|\n",
       "| green | green | green | 0.008333333 |\n",
       "| red   | green | green | 0.175000000 |\n",
       "| red   | red   | green | 0.525000000 |\n",
       "| red   | red   | red   | 0.291666667 |\n",
       "\n"
      ],
      "text/plain": [
       "  X1    X2    X3    probs      \n",
       "1 green green green 0.008333333\n",
       "2 red   green green 0.175000000\n",
       "3 red   red   green 0.525000000\n",
       "4 red   red   red   0.291666667"
      ]
     },
     "metadata": {},
     "output_type": "display_data"
    }
   ],
   "source": [
    "#para comprobor podemos observar el espacio del experimento con la que trabajamos \n",
    "print(\"Espacio de probabilidades del experimento, SI importa el orden\")\n",
    "marginal(p_s)\n",
    "print(\"Espacio de probabilidades del experimento, NO importa el orden\")\n",
    "marginal(probspace(urnsamples(x,size=3,ordered=F,replace=F)))"
   ]
  },
  {
   "cell_type": "markdown",
   "metadata": {},
   "source": [
    "### Ejercicio. Variables aleatorias\n",
    "1. Encontrar los histogramas de probabilidad para las distribuciones asociadas a las siguientes variables aleatorias:\n",
    "    1. El número de águilas que aparecen cuando lanzamos tres monedas al aire.\n"
   ]
  },
  {
   "cell_type": "code",
   "execution_count": 95,
   "metadata": {},
   "outputs": [],
   "source": [
    "library(ggplot2)\n",
    "options(repr.plot.width=4, repr.plot.height=4) #esta línea sólo se ejecuta para jupyterlab con R"
   ]
  },
  {
   "cell_type": "code",
   "execution_count": 101,
   "metadata": {},
   "outputs": [
    {
     "data": {
      "image/png": "[encoded data removed]",
      "text/plain": [
       "plot without title"
      ]
     },
     "metadata": {},
     "output_type": "display_data"
    }
   ],
   "source": [
    "#Vamos a considerar sol=0 y aguila=1\n",
    "\n",
    "p_s<-probspace(urnsamples(c(0,1),size=3,ordered=T,replace=T))\n",
    "p_s_xa<-addrv(p_s,FUN=sum,invars=c(\"X1\",\"X2\",\"X3\"),name=\"XA\")\n",
    "p_s_xa<-marginal(p_s_xa,\"XA\")\n",
    "g<-ggplot(data=p_s_xa,aes(x=XA,y=probs))+\n",
    "    geom_col(width=.6)+\n",
    "    ggtitle(\"Numero de Aguilas\")\n",
    "g"
   ]
  },
  {
   "cell_type": "markdown",
   "metadata": {},
   "source": [
    "    2. La suma de los números de las caras cuando se lanzan dos dados."
   ]
  },
  {
   "cell_type": "code",
   "execution_count": 106,
   "metadata": {},
   "outputs": [
    {
     "data": {
      "image/png": "[encoded data removed]",
      "text/plain": [
       "plot without title"
      ]
     },
     "metadata": {},
     "output_type": "display_data"
    }
   ],
   "source": [
    "p_s<-probspace(urnsamples(c(1:6),size=2,ordered=T,replace=T)) # hacemos el espacio de probabilidades\n",
    "p_s<-addrv(p_s,FUN=sum,invars=c(\"X1\",\"X2\"),name=\"XA\")#sumamos las dos caras\n",
    "p_s<-marginal(p_s,\"XA\") #sumamos sobre los valores XA repetidos\n",
    "#p_s\n",
    "g<-ggplot(data=p_s,aes(x=XA,y=probs))+\n",
    "    geom_col(width=.6)+\n",
    "    ggtitle(\"Suma de dos dados\")\n",
    "g"
   ]
  },
  {
   "cell_type": "markdown",
   "metadata": {},
   "source": [
    "2. Se venden 8000 boletos para una rifa de $\\$5,000.00$ y cada boleto cuesta $\\$2.00$.\n",
    "    1. Encontrar la ganancia esperada del comprador de un boleto.\n",
    "    2. Hacer la gráfica de la ganancia esperada que tiene una compradora en términos de un número de boletos $n$.\n",
    "\n",
    "    3. ¿Cuál debería de ser el premio mínimo para que se pudiese garantizar “salir a mano” al comprar todos los boletos."
   ]
  },
  {
   "cell_type": "code",
   "execution_count": 144,
   "metadata": {},
   "outputs": [],
   "source": [
    "#ganancia esperada comprador\n",
    "n<-c(1:8000)\n",
    "valor_esperado<-data.frame(n=n,ve=(4998/n-2+2/n))"
   ]
  },
  {
   "cell_type": "code",
   "execution_count": 145,
   "metadata": {},
   "outputs": [
    {
     "name": "stdout",
     "output_type": "stream",
     "text": [
      "[1] \"El valor esperado para un comprado si se venden todos los boletos es:\"\n"
     ]
    },
    {
     "data": {
      "text/html": [
       "-1.375"
      ],
      "text/latex": [
       "-1.375"
      ],
      "text/markdown": [
       "-1.375"
      ],
      "text/plain": [
       "[1] -1.375"
      ]
     },
     "metadata": {},
     "output_type": "display_data"
    }
   ],
   "source": [
    "print(\"El valor esperado para un comprado si se venden todos los boletos es:\")\n",
    "valor_esperado[length(n),2]"
   ]
  },
  {
   "cell_type": "code",
   "execution_count": 150,
   "metadata": {},
   "outputs": [
    {
     "data": {
      "image/png": "[encoded data removed]",
      "text/plain": [
       "plot without title"
      ]
     },
     "metadata": {},
     "output_type": "display_data"
    }
   ],
   "source": [
    "#grafica de valor esperado\n",
    "ggplot(data=valor_esperado,aes(x=n,y=ve))+\n",
    "    geom_line()+\n",
    "    ggtitle(\"Valor esperado de una compradora\")"
   ]
  },
  {
   "cell_type": "markdown",
   "metadata": {},
   "source": [
    "El premio mínimo para salir a mano al comprar todos los boletos es\n",
    "$ premio_{min}=p*n_{bol}$\n"
   ]
  },
  {
   "cell_type": "code",
   "execution_count": 152,
   "metadata": {},
   "outputs": [
    {
     "name": "stdout",
     "output_type": "stream",
     "text": [
      "[1] \"El precio minimo para quedar a mano es:\"\n"
     ]
    },
    {
     "data": {
      "text/html": [
       "16000"
      ],
      "text/latex": [
       "16000"
      ],
      "text/markdown": [
       "16000"
      ],
      "text/plain": [
       "[1] 16000"
      ]
     },
     "metadata": {},
     "output_type": "display_data"
    }
   ],
   "source": [
    "#En este caso ese premio es\n",
    "print(\"El precio minimo para quedar a mano es:\")\n",
    "2*8000"
   ]
  }
 ],
 "metadata": {
  "kernelspec": {
   "display_name": "R",
   "language": "R",
   "name": "ir"
  },
  "language_info": {
   "codemirror_mode": "r",
   "file_extension": ".r",
   "mimetype": "text/x-r-source",
   "name": "R",
   "pygments_lexer": "r",
   "version": "3.6.0"
  }
 },
 "nbformat": 4,
 "nbformat_minor": 2
}
